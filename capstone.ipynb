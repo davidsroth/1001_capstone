{
 "cells": [
  {
   "cell_type": "code",
   "execution_count": 1,
   "id": "c9ab2988",
   "metadata": {},
   "outputs": [],
   "source": [
    "import pandas as pd\n",
    "import numpy as np\n",
    "import seaborn as sn\n",
    "import matplotlib.pyplot as plt\n",
    "from sklearn.decomposition import PCA\n",
    "from sklearn.preprocessing import StandardScaler, LabelEncoder\n",
    "from sklearn.compose import ColumnTransformer, make_column_selector\n",
    "import scipy.stats as stats\n",
    "from statsmodels.stats.proportion import proportions_ztest"
   ]
  },
  {
   "cell_type": "markdown",
   "id": "6d775ef6",
   "metadata": {},
   "source": [
    "## HYPOTHESIS TESTING\n",
    "**Question 1:** Do customers with varying levels of engagement with the bank have significantly different probabilities of churn and what does this tell us about the measures of engagement which matter the most?\n",
    "\n",
    "**Approach:** Define customer profiles based on three measures of engagement (NumOfProducts, IsActiveMember and Tenure), and then implement hypothesis testing to see if churn proportion is significantly different from one profile to another."
   ]
  },
  {
   "cell_type": "code",
   "execution_count": 3,
   "id": "781191f6",
   "metadata": {},
   "outputs": [
    {
     "name": "stdout",
     "output_type": "stream",
     "text": [
      "2.9185852464596694e-196\n"
     ]
    }
   ],
   "source": [
    "# Customer Profiling #\n",
    "\n",
    "# First Profile - Product Drivenness #\n",
    "# Test H0: P(churn)_prod-driven = P(churn)_normal\n",
    "# and  H1: P(churn)_prod-driven < P(churn)_normal\n",
    "dataset = pd.read_csv(\"Churn_Modelling.csv\")\n",
    "colnames = dataset.columns\n",
    "\n",
    "sample_vpd_churn = len(dataset[(dataset['NumOfProducts'] >= 3) & (dataset['Exited'] == 1)])\n",
    "sample_size_vpd = len(dataset[(dataset['NumOfProducts'] >= 3)])\n",
    "\n",
    "sample_normal_churn = len(dataset[(dataset['NumOfProducts'] < 3) & (dataset['Exited'] == 1)])\n",
    "sample_size_normal = len(dataset[(dataset['NumOfProducts'] < 3)])\n",
    "\n",
    "churns = np.array([sample_vpd_churn, sample_normal_churn])\n",
    "samples = np.array([sample_size_vpd, sample_size_normal])\n",
    "\n",
    "stat, p_value = proportions_ztest(count=churns, nobs=samples, alternative='larger')\n",
    "print(p_value)\n",
    "# p ~ 0; reject null"
   ]
  },
  {
   "cell_type": "code",
   "execution_count": 4,
   "id": "3fe3bb28",
   "metadata": {},
   "outputs": [
    {
     "name": "stdout",
     "output_type": "stream",
     "text": [
      "2.9769262701820924e-55\n"
     ]
    }
   ],
   "source": [
    "# Second Profile - \"Activeness\", as measured by bank #\n",
    "# Test H0: P(churn)_active = P(churn)_notactive\n",
    "# Test H1: P(churn)_active < P(churn)_notactive\n",
    "\n",
    "sample_active_churn = len(dataset[(dataset['IsActiveMember'] == 1) & (dataset['Exited'] == 1)])\n",
    "sample_size_active = len(dataset[(dataset['IsActiveMember'] == 1)])\n",
    "\n",
    "sample_notactive_churn = len(dataset[(dataset['IsActiveMember'] == 0) & (dataset['Exited'] == 1)])\n",
    "sample_size_notactive = len(dataset[(dataset['IsActiveMember'] == 0)])\n",
    "\n",
    "churns = np.array([sample_active_churn, sample_notactive_churn])\n",
    "samples = np.array([sample_size_active, sample_size_notactive])\n",
    "\n",
    "stat, p_value = proportions_ztest(count=churns, nobs=samples, alternative = 'smaller')\n",
    "print(p_value)\n",
    "# p ~ 0; reject null"
   ]
  },
  {
   "cell_type": "code",
   "execution_count": 5,
   "id": "54178484",
   "metadata": {},
   "outputs": [
    {
     "name": "stdout",
     "output_type": "stream",
     "text": [
      "0.011884065776476273\n"
     ]
    }
   ],
   "source": [
    "# Third Profile - Tenure #\n",
    "# Test H0: P(churn)_established = P(churn)_new\n",
    "# Test H1: P(churn)_established < P(churn)_new\n",
    "\n",
    "cutoff = 1\n",
    "# tried different cutoffs for new vs. established classification\n",
    "# cutoff of 1 yr yields most significant p_value, which is still 0.01\n",
    "# and above our threshold of significance (0.005)\n",
    "# Conclusion: tenure not a great measure of engagement to predict churn with\n",
    "\n",
    "sample_established_churn = len(dataset[(dataset['Tenure'] > cutoff) & (dataset['Exited'] == 1)])\n",
    "sample_size_established = len(dataset[(dataset['Tenure'] > cutoff)])\n",
    "\n",
    "sample_new_churn = len(dataset[(dataset['Tenure'] <= cutoff) & (dataset['Exited'] == 1)])\n",
    "sample_size_new = len(dataset[(dataset['Tenure'] <= cutoff)])\n",
    "\n",
    "churns = np.array([sample_established_churn, sample_new_churn])\n",
    "samples =np.array([sample_size_established, sample_size_new])\n",
    "\n",
    "stat, p_value = proportions_ztest(count=churns, nobs=samples, alternative='smaller')\n",
    "print(p_value)\n",
    "# p = 0.01; do not reject null"
   ]
  },
  {
   "cell_type": "markdown",
   "id": "b912599d",
   "metadata": {},
   "source": [
    "## CORRELATION TESTING\n",
    "**Question 2:** Of our numerical features (Age, estimated salary, balance, etc.), are there any that are highly correlated / duplicative that we should consolidate or remove prior to developing a predictive churn model?\n",
    "\n",
    "**Approach:**\n",
    "1. Compute the correlation matrix for the data and determine if any features are highly correlated with one another, or if any features correlate highly with the target variable \"Exited\".\n",
    "2. Perform PCA on the dataset and generate a Scree plot to determine how much explained variance we have in each principal component."
   ]
  },
  {
   "cell_type": "code",
   "execution_count": 130,
   "id": "e7df4e94",
   "metadata": {
    "scrolled": false
   },
   "outputs": [],
   "source": [
    "churn = pd.read_csv('Churn_Modelling.csv', index_col=0)"
   ]
  },
  {
   "cell_type": "code",
   "execution_count": 131,
   "id": "2f1e8370",
   "metadata": {},
   "outputs": [
    {
     "data": {
      "text/plain": [
       "<AxesSubplot:>"
      ]
     },
     "execution_count": 131,
     "metadata": {},
     "output_type": "execute_result"
    },
    {
     "data": {
      "image/png": "[encoded data removed]",
      "text/plain": [
       "<Figure size 432x288 with 2 Axes>"
      ]
     },
     "metadata": {
      "needs_background": "light"
     },
     "output_type": "display_data"
    }
   ],
   "source": [
    "sn.heatmap(churn.corr())"
   ]
  },
  {
   "cell_type": "code",
   "execution_count": 132,
   "id": "f618cb96",
   "metadata": {},
   "outputs": [],
   "source": [
    "churn_clean = churn.copy()"
   ]
  },
  {
   "cell_type": "code",
   "execution_count": 133,
   "id": "8e9a1de7",
   "metadata": {},
   "outputs": [],
   "source": [
    "categorical_cols = {'Geography', 'Gender'}\n",
    "predict_cols = set((churn.columns)) - {'CustomerId', 'Exited', 'Surname'}\n",
    "num_cols = predict_cols- categorical_cols"
   ]
  },
  {
   "cell_type": "code",
   "execution_count": 134,
   "id": "a8eefc50",
   "metadata": {},
   "outputs": [],
   "source": [
    "sclr = StandardScaler()\n",
    "lblr = LabelEncoder()\n",
    "sclr.fit(churn[num_cols])\n",
    "for col in categorical_cols:\n",
    "    churn_clean[col] = lblr.fit_transform(churn[col])\n",
    "churn_clean[list(num_cols)] = sclr.transform(churn[num_cols])"
   ]
  },
  {
   "cell_type": "code",
   "execution_count": 135,
   "id": "9a8268f5",
   "metadata": {},
   "outputs": [
    {
     "data": {
      "text/plain": [
       "<AxesSubplot:>"
      ]
     },
     "execution_count": 135,
     "metadata": {},
     "output_type": "execute_result"
    },
    {
     "data": {
      "image/png": "[encoded data removed]",
      "text/plain": [
       "<Figure size 432x288 with 2 Axes>"
      ]
     },
     "metadata": {
      "needs_background": "light"
     },
     "output_type": "display_data"
    }
   ],
   "source": [
    "sn.heatmap(churn_clean.corr())"
   ]
  },
  {
   "cell_type": "code",
   "execution_count": 136,
   "id": "432c73b9",
   "metadata": {},
   "outputs": [
    {
     "data": {
      "text/html": [
       "<div>\n",
       "<style scoped>\n",
       "    .dataframe tbody tr th:only-of-type {\n",
       "        vertical-align: middle;\n",
       "    }\n",
       "\n",
       "    .dataframe tbody tr th {\n",
       "        vertical-align: top;\n",
       "    }\n",
       "\n",
       "    .dataframe thead th {\n",
       "        text-align: right;\n",
       "    }\n",
       "</style>\n",
       "<table border=\"1\" class=\"dataframe\">\n",
       "  <thead>\n",
       "    <tr style=\"text-align: right;\">\n",
       "      <th></th>\n",
       "      <th>CustomerId</th>\n",
       "      <th>Surname</th>\n",
       "      <th>CreditScore</th>\n",
       "      <th>Geography</th>\n",
       "      <th>Gender</th>\n",
       "      <th>Age</th>\n",
       "      <th>Tenure</th>\n",
       "      <th>Balance</th>\n",
       "      <th>NumOfProducts</th>\n",
       "      <th>HasCrCard</th>\n",
       "      <th>IsActiveMember</th>\n",
       "      <th>EstimatedSalary</th>\n",
       "      <th>Exited</th>\n",
       "    </tr>\n",
       "    <tr>\n",
       "      <th>RowNumber</th>\n",
       "      <th></th>\n",
       "      <th></th>\n",
       "      <th></th>\n",
       "      <th></th>\n",
       "      <th></th>\n",
       "      <th></th>\n",
       "      <th></th>\n",
       "      <th></th>\n",
       "      <th></th>\n",
       "      <th></th>\n",
       "      <th></th>\n",
       "      <th></th>\n",
       "      <th></th>\n",
       "    </tr>\n",
       "  </thead>\n",
       "  <tbody>\n",
       "    <tr>\n",
       "      <th>1</th>\n",
       "      <td>15634602</td>\n",
       "      <td>Hargrave</td>\n",
       "      <td>-0.326221</td>\n",
       "      <td>0</td>\n",
       "      <td>0</td>\n",
       "      <td>0.293517</td>\n",
       "      <td>-1.041760</td>\n",
       "      <td>-1.225848</td>\n",
       "      <td>-0.911583</td>\n",
       "      <td>0.646092</td>\n",
       "      <td>0.970243</td>\n",
       "      <td>0.021886</td>\n",
       "      <td>1</td>\n",
       "    </tr>\n",
       "    <tr>\n",
       "      <th>2</th>\n",
       "      <td>15647311</td>\n",
       "      <td>Hill</td>\n",
       "      <td>-0.440036</td>\n",
       "      <td>2</td>\n",
       "      <td>0</td>\n",
       "      <td>0.198164</td>\n",
       "      <td>-1.387538</td>\n",
       "      <td>0.117350</td>\n",
       "      <td>-0.911583</td>\n",
       "      <td>-1.547768</td>\n",
       "      <td>0.970243</td>\n",
       "      <td>0.216534</td>\n",
       "      <td>0</td>\n",
       "    </tr>\n",
       "  </tbody>\n",
       "</table>\n",
       "</div>"
      ],
      "text/plain": [
       "           CustomerId   Surname  CreditScore  Geography  Gender       Age  \\\n",
       "RowNumber                                                                   \n",
       "1            15634602  Hargrave    -0.326221          0       0  0.293517   \n",
       "2            15647311      Hill    -0.440036          2       0  0.198164   \n",
       "\n",
       "             Tenure   Balance  NumOfProducts  HasCrCard  IsActiveMember  \\\n",
       "RowNumber                                                                 \n",
       "1         -1.041760 -1.225848      -0.911583   0.646092        0.970243   \n",
       "2         -1.387538  0.117350      -0.911583  -1.547768        0.970243   \n",
       "\n",
       "           EstimatedSalary  Exited  \n",
       "RowNumber                           \n",
       "1                 0.021886       1  \n",
       "2                 0.216534       0  "
      ]
     },
     "execution_count": 136,
     "metadata": {},
     "output_type": "execute_result"
    }
   ],
   "source": [
    "churn_clean.head(2)"
   ]
  },
  {
   "cell_type": "code",
   "execution_count": 137,
   "id": "c8e80593",
   "metadata": {},
   "outputs": [],
   "source": [
    "pca = PCA().fit(churn_clean[predict_cols])"
   ]
  },
  {
   "cell_type": "code",
   "execution_count": 138,
   "id": "fac0c515",
   "metadata": {
    "scrolled": false
   },
   "outputs": [
    {
     "data": {
      "text/plain": [
       "Text(0, 0.5, 'cumulative explained variance')"
      ]
     },
     "execution_count": 138,
     "metadata": {},
     "output_type": "execute_result"
    },
    {
     "data": {
      "image/png": "[encoded data removed]",
      "text/plain": [
       "<Figure size 432x288 with 1 Axes>"
      ]
     },
     "metadata": {
      "needs_background": "light"
     },
     "output_type": "display_data"
    }
   ],
   "source": [
    "plt.plot(np.cumsum(pca.explained_variance_ratio_))\n",
    "plt.xlabel('number of components')\n",
    "plt.ylabel('cumulative explained variance')"
   ]
  },
  {
   "cell_type": "code",
   "execution_count": 139,
   "id": "66fa0597",
   "metadata": {},
   "outputs": [
    {
     "data": {
      "image/png": "[encoded data removed]",
      "text/plain": [
       "<Figure size 432x288 with 1 Axes>"
      ]
     },
     "metadata": {
      "needs_background": "light"
     },
     "output_type": "display_data"
    }
   ],
   "source": [
    "PC_values = np.arange(pca.n_components_) + 1\n",
    "plt.plot(PC_values, pca.explained_variance_ratio_, 'o-', linewidth=2, color='blue')\n",
    "plt.title('Scree Plot')\n",
    "plt.xlabel('Principal Component')\n",
    "plt.ylabel('Variance Explained')\n",
    "plt.show()"
   ]
  },
  {
   "cell_type": "markdown",
   "id": "67f02550",
   "metadata": {},
   "source": [
    "## MODELING\n",
    "**Question 3:** Using the contributing factors that we identified in our previous analyses, how accurately can we predict customer churn, and what are the most important contributing factors overall?\n",
    "\n",
    "**Approach:**\n",
    "1. Feature selection using Boruta - algorithm determines whether each feature contributes significantly to model performance, allowing us to select a smaller subset of features. This is beneficial in terms of model training time and interpretability.\n",
    "2. Data preparation for modeling - 80-20 train / test split and standardization (if needed).\n",
    "3. Model implementation - we optimize and compare the following supervised classification models based on their F1 scores on the testing (holdout) data:\n",
    "    - Logistic Regression\n",
    "    - K-Nearest Neighbors\n",
    "    - Support Vector Machine\n",
    "    - Random Forest\n",
    "\n",
    "**Conclusion:**\n",
    "From modeling experimentation, we find that Random Forest predicts churn with the highest F1 score (0.60). Since Random Forest allows us to determine feature importance, we also compute relative feature importances to determine the most important contributing factors to customer churn.\n"
   ]
  },
  {
   "cell_type": "code",
   "execution_count": 140,
   "id": "fd2b0ad7",
   "metadata": {},
   "outputs": [],
   "source": [
    "#########################\n",
    "### FEATURE SELECTION ###\n",
    "#########################\n",
    "\n",
    "from sklearn.ensemble import RandomForestClassifier\n",
    "from boruta import BorutaPy\n",
    "\n",
    "### Initialize Boruta\n",
    "forest = RandomForestClassifier(\n",
    "   n_jobs = -1, \n",
    "   max_depth = 7, \n",
    "   verbose = 0\n",
    ")\n",
    "boruta = BorutaPy(\n",
    "   estimator = forest, \n",
    "   n_estimators = 'auto',\n",
    "   max_iter = 500, # number of trials to perform, \n",
    "   verbose = 0\n",
    ")\n",
    "### modify datatype for Boruta (it accepts np.array, not pd.DataFrame)\n",
    "\n",
    "## NOTE: Omitted Surname and Customer ID\n",
    "churn_data_x = churn_clean[list(predict_cols)]\n",
    "churn_data_y = churn_clean[['Exited']]\n",
    "\n",
    "churn_data_x_numpy = churn_data_x.to_numpy()\n",
    "churn_data_y_numpy = churn_data_y.to_numpy()\n",
    "\n",
    "## Boruta has already been run so for future runs of this notebook we avoid a re-run\n",
    "## To re-run Boruta, switch runBoruta to True\n",
    "runBoruta = False\n",
    "\n",
    "if runBoruta:\n",
    "    boruta.fit(churn_data_x_numpy, churn_data_y_numpy)\n",
    "\n",
    "    ## Green Area variables have been cleared as significant, blue area variables are still uncertain\n",
    "    green_area = churn_data_x.columns[boruta.support_].to_list()\n",
    "    blue_area = churn_data_x.columns[boruta.support_weak_].to_list()\n",
    "    print('features in the green area:', green_area)\n",
    "    print('features in the blue area:', blue_area)\n",
    "else:\n",
    "   green_area = ['Age', 'EstimatedSalary', 'CreditScore', 'Geography', 'NumOfProducts', 'IsActiveMember', 'Balance']\n",
    "   blue_area = []"
   ]
  },
  {
   "cell_type": "code",
   "execution_count": null,
   "id": "e76bd129",
   "metadata": {},
   "outputs": [],
   "source": [
    "!pip install imblearn"
   ]
  },
  {
   "cell_type": "code",
   "execution_count": null,
   "id": "3c3444ac",
   "metadata": {},
   "outputs": [],
   "source": [
    "############################################\n",
    "### PREPARATION FOR MODEL IMPLEMENTATION ###\n",
    "############################################\n",
    "\n",
    "from sklearn.neighbors import KNeighborsClassifier\n",
    "from sklearn.svm import SVC\n",
    "from sklearn import linear_model\n",
    "\n",
    "from sklearn.model_selection import train_test_split, RandomizedSearchCV, cross_val_score, GridSearchCV\n",
    "from sklearn import metrics\n",
    "from sklearn.metrics import f1_score\n",
    "import seaborn as sns\n",
    "from imblearn.over_sampling import SMOTE\n",
    "from imblearn.combine import SMOTEENN\n",
    "from sklearn.metrics import classification_report\n",
    "from sklearn.preprocessing import StandardScaler\n",
    "\n",
    "# 80-20 Train Test Split\n",
    "x_train, x_test, y_train, y_test = train_test_split(churn_data_x[green_area], churn_data_y, test_size = 0.2, random_state = 20)\n",
    "smt = SMOTE(random_state=0)\n",
    "\n",
    "# For trying SMOTE to address class imbalance\n",
    "X_train_SMOTE, y_train_SMOTE = smt.fit_resample(x_train, y_train)\n",
    "\n",
    "# Standardize data for models that need it\n",
    "X_train_scaled = StandardScaler().fit_transform(x_train)\n",
    "X_test_scaled = StandardScaler().fit_transform(x_test)\n",
    "X_train_SMOTE_scaled = StandardScaler().fit_transform(X_train_SMOTE)\n"
   ]
  },
  {
   "cell_type": "code",
   "execution_count": 147,
   "id": "3f72b94a",
   "metadata": {},
   "outputs": [
    {
     "name": "stdout",
     "output_type": "stream",
     "text": [
      "Training accuracy:  0.80575\n",
      "Testing accuracy:  0.815\n",
      "F1 score:  0.2884615384615385\n"
     ]
    },
    {
     "data": {
      "image/png": "[encoded data removed]",
      "text/plain": [
       "<Figure size 432x288 with 1 Axes>"
      ]
     },
     "metadata": {
      "needs_background": "light"
     },
     "output_type": "display_data"
    },
    {
     "name": "stdout",
     "output_type": "stream",
     "text": [
      "Training accuracy (balanced):  0.7\n",
      "------------------------------------------------\n",
      "Final Results on Test Data:\n",
      "              precision    recall  f1-score   support\n",
      "\n",
      "           0       0.90      0.70      0.78      1617\n",
      "           1       0.34      0.66      0.45       383\n",
      "\n",
      "    accuracy                           0.69      2000\n",
      "   macro avg       0.62      0.68      0.62      2000\n",
      "weighted avg       0.79      0.69      0.72      2000\n",
      "\n"
     ]
    },
    {
     "data": {
      "image/png": "[encoded data removed]",
      "text/plain": [
       "<Figure size 432x288 with 1 Axes>"
      ]
     },
     "metadata": {
      "needs_background": "light"
     },
     "output_type": "display_data"
    }
   ],
   "source": [
    "#################################################\n",
    "### MODEL IMPLEMENTATION, LOGISTIC REGRESSION ###\n",
    "#################################################\n",
    "\n",
    "features = churn_clean[green_area]\n",
    "exited = churn_clean['Exited']\n",
    "\n",
    "features_train, features_test, exited_train, exited_test = train_test_split(features, exited, test_size=0.20)\n",
    "\n",
    "#regression without balanced class weights\n",
    "logistic_reg = linear_model.LogisticRegression().fit(features_train, exited_train)\n",
    "print('Training accuracy: ', logistic_reg.score(features_train, exited_train))\n",
    "print('Testing accuracy: ', logistic_reg.score(features_test, exited_test))\n",
    "print('F1 score: ', f1_score(exited_test, logistic_reg.predict(features_test)))\n",
    "\n",
    "probs = logistic_reg.predict_proba(features_test)\n",
    "preds = probs[:,1]\n",
    "fpr, tpr, threshold = metrics.roc_curve(exited_test, preds)\n",
    "roc_auc = metrics.auc(fpr, tpr)\n",
    "\n",
    "plt.title('ROC')\n",
    "plt.plot(fpr, tpr, 'b', label = 'AUC = %0.2f' % roc_auc)\n",
    "plt.legend(loc='lower right')\n",
    "plt.plot([0,1], [0,1], 'r--')\n",
    "plt.xlim([0,1])\n",
    "plt.ylim([0,1])\n",
    "plt.ylabel('True Positive Rate')\n",
    "plt.xlabel('False Positive Rate')\n",
    "plt.show()\n",
    "\n",
    "#regression with balanced class weights\n",
    "logistic_reg_balanced = linear_model.LogisticRegression(class_weight='balanced').fit(features_train, exited_train)\n",
    "print('Training accuracy (balanced): ', logistic_reg_balanced.score(features_train, exited_train))\n",
    "print('------------------------------------------------')\n",
    "print('Final Results on Test Data:')\n",
    "print(classification_report(exited_test, logistic_reg_balanced.predict(features_test)))\n",
    "\n",
    "probs_balanced = logistic_reg_balanced.predict_proba(features_test)\n",
    "preds_balanced = probs_balanced[:,1]\n",
    "fpr_balanced, tpr_balanced, threshold_balanced = metrics.roc_curve(exited_test, preds_balanced)\n",
    "roc_auc_balanced = metrics.auc(fpr_balanced, tpr_balanced)\n",
    "\n",
    "plt.title('ROC (balanced)')\n",
    "plt.plot(fpr_balanced, tpr_balanced, 'b', label = 'AUC = %0.2f' % roc_auc_balanced)\n",
    "plt.legend(loc='lower right')\n",
    "plt.plot([0,1], [0,1], 'r--')\n",
    "plt.xlim([0,1])\n",
    "plt.ylim([0,1])\n",
    "plt.ylabel('True Positive Rate')\n",
    "plt.xlabel('False Positive Rate')\n",
    "plt.show()"
   ]
  },
  {
   "cell_type": "code",
   "execution_count": 153,
   "id": "b6f9bf73",
   "metadata": {},
   "outputs": [
    {
     "name": "stdout",
     "output_type": "stream",
     "text": [
      "KNN 5-fold average baseline: 0.5534930214427668\n",
      "\n",
      "Best Params (without SMOTE): {'algorithm': 'auto', 'n_neighbors': 9, 'p': 1, 'weights': 'uniform'}\n",
      "Best Params (with SMOTE):\n",
      " {'algorithm': 'auto', 'n_neighbors': 2, 'p': 2, 'weights': 'distance'}\n",
      "KNN 5-fold average f1 after hyperparameter tuning: 0.5608219678658016\n",
      "\n",
      "KNN 5-fold average f1 after SMOTE and hyperparameter tuning: 0.8865531105266274\n",
      "\n",
      "KNN Final Results on Test Data\n",
      "Without SMOTE:\n",
      "------------------------------------------------\n",
      "KNN Test Accuracy: 0.859\n",
      "KNN Test F1: 0.5451612903225806\n",
      "KNN Test ROC AUC: 0.7780324610906546\n",
      "------------------------------------------------\n",
      "              precision    recall  f1-score   support\n",
      "\n",
      "           0       0.88      0.95      0.92      1623\n",
      "           1       0.70      0.45      0.55       377\n",
      "\n",
      "    accuracy                           0.86      2000\n",
      "   macro avg       0.79      0.70      0.73      2000\n",
      "weighted avg       0.85      0.86      0.85      2000\n",
      "\n",
      "------------------------------------------------\n",
      "\n",
      "\n",
      "With SMOTE:\n",
      "------------------------------------------------\n",
      "KNN w/SMOTE Test Accuracy: 0.764\n",
      "KNN w/SMOTE Test F1: 0.4813186813186813\n",
      "KNN w/SMOTE Test ROC AUC: 0.7204304502092761\n",
      "------------------------------------------------\n",
      "              precision    recall  f1-score   support\n",
      "\n",
      "           0       0.89      0.81      0.85      1623\n",
      "           1       0.41      0.58      0.48       377\n",
      "\n",
      "    accuracy                           0.76      2000\n",
      "   macro avg       0.65      0.69      0.66      2000\n",
      "weighted avg       0.80      0.76      0.78      2000\n",
      "\n",
      "------------------------------------------------\n",
      "\n",
      "\n"
     ]
    }
   ],
   "source": [
    "#################################################\n",
    "### MODEL IMPLEMENTATION, K-NEAREST NEIGHBORS ###\n",
    "#################################################\n",
    "\n",
    "# Baseline Model Performance\n",
    "knn = KNeighborsClassifier(n_neighbors=5) # KNN on default settings set by sklearn\n",
    "knn_baseline_scores = cross_val_score(knn, X_train_scaled, np.array(y_train).ravel(), scoring='f1') #note: np.array(y_train) was to remove warnings, y_train on its own also works\n",
    "print('KNN 5-fold average baseline: {}\\n'.format(knn_baseline_scores.mean()))\n",
    "\n",
    "# Parameter ranges in sklearn's KNN algorithm method for hyperparameter tuning using Grid Search\n",
    "n_neighbors = list(range(2,10))\n",
    "weights = ['uniform', 'distance']\n",
    "algorithm = ['auto', 'ball_tree', 'kd_tree', 'brute']\n",
    "p = [1, 2]\n",
    "\n",
    "knn_grid = {\n",
    "        'n_neighbors': n_neighbors,\n",
    "        'weights': weights,\n",
    "        'algorithm': algorithm,\n",
    "        'p': p\n",
    "       }\n",
    "\n",
    "# Run GridSearchCV to obtain optimal hyperparameters for KNN\n",
    "knn_gs = GridSearchCV(estimator = knn, param_grid = knn_grid, cv = 5, n_jobs = -1)\n",
    "knn_gs.fit(X_train_scaled, np.array(y_train).ravel())\n",
    "print('Best Params (without SMOTE):', knn_gs.best_params_)\n",
    "\n",
    "knn_gs.fit(X_train_SMOTE_scaled, np.array(y_train_SMOTE).ravel())\n",
    "print('Best Params (with SMOTE):\\n', knn_gs.best_params_)\n",
    "\n",
    "# Evaluate optimized models on training set using CV \n",
    "knn_best = KNeighborsClassifier(algorithm='auto', n_neighbors=9, p=2, weights='uniform')\n",
    "knn_opt_scores = cross_val_score(knn_best, X_train_scaled, np.array(y_train).ravel(), scoring='f1')\n",
    "print('KNN 5-fold average f1 after hyperparameter tuning: {}\\n'.format(knn_opt_scores.mean()))\n",
    "\n",
    "knn_best_SMOTE = KNeighborsClassifier(algorithm='auto', n_neighbors=2, p=2, weights='distance')\n",
    "knn_smote_opt_scores = cross_val_score(knn_best_SMOTE, X_train_SMOTE_scaled, np.array(y_train_SMOTE).ravel(), scoring='f1')\n",
    "print('KNN 5-fold average f1 after SMOTE and hyperparameter tuning: {}\\n'.format(knn_smote_opt_scores.mean()))\n",
    "\n",
    "# Evaluate optimized models on holdout set and compute final evaluation metrics\n",
    "knn_best.fit(X_train_scaled, np.array(y_train).ravel())\n",
    "y_pred = knn_best.predict(X_test_scaled)\n",
    "\n",
    "knn_best_SMOTE.fit(X_train_SMOTE_scaled, np.array(y_train_SMOTE).ravel())\n",
    "y_pred_SMOTE = knn_best_SMOTE.predict(X_test_scaled)\n",
    "\n",
    "print('KNN Final Results on Test Data')\n",
    "print('Without SMOTE:')\n",
    "print('------------------------------------------------')\n",
    "print('KNN Test Accuracy: {}'.format(metrics.accuracy_score(y_test, y_pred)))\n",
    "print('KNN Test F1: {}'.format(metrics.f1_score(y_test, y_pred)))\n",
    "print('KNN Test ROC AUC: {}'.format(metrics.roc_auc_score(y_test, knn_best.predict_proba(x_test)[:,1])))\n",
    "\n",
    "print('------------------------------------------------')\n",
    "print(classification_report(y_test, y_pred))\n",
    "print('------------------------------------------------\\n\\n')\n",
    "\n",
    "print('With SMOTE:')\n",
    "print('------------------------------------------------')\n",
    "print('KNN w/SMOTE Test Accuracy: {}'.format(metrics.accuracy_score(y_test, y_pred_SMOTE)))\n",
    "print('KNN w/SMOTE Test F1: {}'.format(metrics.f1_score(y_test, y_pred_SMOTE)))\n",
    "print('KNN w/SMOTE Test ROC AUC: {}'.format(metrics.roc_auc_score(y_test, knn_best_SMOTE.predict_proba(x_test)[:,1])))\n",
    "\n",
    "print('------------------------------------------------')\n",
    "print(classification_report(y_test, y_pred_SMOTE))\n",
    "print('------------------------------------------------\\n\\n')"
   ]
  },
  {
   "cell_type": "code",
   "execution_count": 152,
   "id": "c07ce640",
   "metadata": {},
   "outputs": [
    {
     "name": "stdout",
     "output_type": "stream",
     "text": [
      "SVM 5-fold average baseline F1: 0.5246609513368735\n",
      "\n",
      "Fitting 5 folds for each of 40 candidates, totalling 200 fits\n",
      "Best Params (without SMOTE): {'C': 1, 'gamma': 'scale', 'kernel': 'rbf'}\n",
      "Fitting 5 folds for each of 40 candidates, totalling 200 fits\n",
      "Best Params (with SMOTE):\n",
      " {'C': 2, 'gamma': 'scale', 'kernel': 'rbf'}\n",
      "SVM 5-fold average F1 after hyperparameter tuning: 0.5246609513368735\n",
      "\n",
      "SVM 5-fold average f1 after SMOTE and hyperparameter tuning: 0.8016792743126888\n",
      "\n",
      "SVM Final Results on Test Data\n",
      "Without SMOTE:\n",
      "------------------------------------------------\n",
      "SVM Test Accuracy: 0.8675\n",
      "SVM Test F1: 0.5359019264448336\n",
      "------------------------------------------------\n",
      "              precision    recall  f1-score   support\n",
      "\n",
      "           0       0.88      0.97      0.92      1623\n",
      "           1       0.79      0.41      0.54       377\n",
      "\n",
      "    accuracy                           0.87      2000\n",
      "   macro avg       0.83      0.69      0.73      2000\n",
      "weighted avg       0.86      0.87      0.85      2000\n",
      "\n",
      "------------------------------------------------\n",
      "\n",
      "\n",
      "With SMOTE:\n",
      "------------------------------------------------\n",
      "SVM w/SMOTE Test Accuracy: 0.734\n",
      "SVM w/SMOTE Test F1: 0.5241502683363148\n",
      "------------------------------------------------\n",
      "              precision    recall  f1-score   support\n",
      "\n",
      "           0       0.93      0.72      0.82      1623\n",
      "           1       0.40      0.78      0.52       377\n",
      "\n",
      "    accuracy                           0.73      2000\n",
      "   macro avg       0.66      0.75      0.67      2000\n",
      "weighted avg       0.83      0.73      0.76      2000\n",
      "\n",
      "------------------------------------------------\n",
      "\n",
      "\n"
     ]
    }
   ],
   "source": [
    "#################################\n",
    "### MODEL IMPLEMENTATION, SVM ###\n",
    "#################################\n",
    "\n",
    "# Baseline Model Performance\n",
    "svm = SVC()\n",
    "svm_baseline_scores = cross_val_score(svm, X_train_scaled, np.array(y_train).ravel(), scoring='f1') #note: np.array(y_train) was to remove warnings, y_train on its own also works\n",
    "print('SVM 5-fold average baseline F1: {}\\n'.format(svm_baseline_scores.mean()))\n",
    "\n",
    "# Parameter ranges in sklearn's SVM algorithm method for hyperparameter tuning using Grid Search\n",
    "C = [0.01, 0.1, 0.5, 1, 2]\n",
    "kernel = ['linear', 'poly', 'rbf', 'sigmoid']\n",
    "gamma = ['scale', 'auto']\n",
    "\n",
    "svm_grid = {\n",
    "        'C': C,\n",
    "        'kernel': kernel,\n",
    "        'gamma': gamma\n",
    "       }\n",
    "\n",
    "# Run GridSearchCV to obtain optimal hyperparameters for KNN\n",
    "svm_gs = GridSearchCV(estimator = svm, param_grid = svm_grid, cv = 5, verbose=10, n_jobs = -1)\n",
    "svm_gs.fit(X_train_scaled, np.array(y_train).ravel())\n",
    "print('Best Params (without SMOTE):', svm_gs.best_params_)\n",
    "\n",
    "svm_gs.fit(X_train_SMOTE_scaled, np.array(y_train_SMOTE).ravel())\n",
    "print('Best Params (with SMOTE):\\n', svm_gs.best_params_)\n",
    "\n",
    "# Evaluate optimized models on training data\n",
    "svm_best = SVC(C=1, gamma='scale', kernel='rbf')\n",
    "svm_opt_scores = cross_val_score(svm_best, X_train_scaled, np.array(y_train).ravel(), scoring='f1')\n",
    "print('SVM 5-fold average F1 after hyperparameter tuning: {}\\n'.format(svm_opt_scores.mean()))\n",
    "\n",
    "svm_best_SMOTE = SVC(C=2, gamma='scale', kernel='rbf')\n",
    "svm_smote_opt_scores = cross_val_score(svm_best_SMOTE, X_train_SMOTE_scaled, np.array(y_train_SMOTE).ravel(), scoring='f1')\n",
    "print('SVM 5-fold average f1 after SMOTE and hyperparameter tuning: {}\\n'.format(svm_smote_opt_scores.mean()))\n",
    "\n",
    "# Fit optimized models to holdout set and compute final evaluation metrics\n",
    "svm_best.fit(X_train_scaled, np.array(y_train).ravel())\n",
    "y_pred = svm_best.predict(X_test_scaled)\n",
    "\n",
    "svm_best_SMOTE.fit(X_train_SMOTE_scaled, np.array(y_train_SMOTE).ravel())\n",
    "y_pred_SMOTE = svm_best_SMOTE.predict(X_test_scaled)\n",
    "\n",
    "print('SVM Final Results on Test Data')\n",
    "print('Without SMOTE:')\n",
    "print('------------------------------------------------')\n",
    "print('SVM Test Accuracy: {}'.format(metrics.accuracy_score(y_test, y_pred)))\n",
    "print('SVM Test F1: {}'.format(metrics.f1_score(y_test, y_pred)))\n",
    "\n",
    "print('------------------------------------------------')\n",
    "print(classification_report(y_test, y_pred))\n",
    "print('------------------------------------------------\\n\\n')\n",
    "\n",
    "print('With SMOTE:')\n",
    "print('------------------------------------------------')\n",
    "print('SVM w/SMOTE Test Accuracy: {}'.format(metrics.accuracy_score(y_test, y_pred_SMOTE)))\n",
    "print('SVM w/SMOTE Test F1: {}'.format(metrics.f1_score(y_test, y_pred_SMOTE)))\n",
    "\n",
    "print('------------------------------------------------')\n",
    "print(classification_report(y_test, y_pred_SMOTE))\n",
    "print('------------------------------------------------\\n\\n')"
   ]
  },
  {
   "cell_type": "code",
   "execution_count": 150,
   "id": "abc93fb2",
   "metadata": {},
   "outputs": [
    {
     "name": "stderr",
     "output_type": "stream",
     "text": [
      "<ipython-input-150-617288e3c379>:45: DataConversionWarning: A column-vector y was passed when a 1d array was expected. Please change the shape of y to (n_samples,), for example using ravel().\n",
      "  classifier.fit(X_train_SMOTE, y_train_SMOTE)\n"
     ]
    },
    {
     "name": "stdout",
     "output_type": "stream",
     "text": [
      "RF Final Results on Test Data\n",
      "------------------------------------------------\n",
      "RF Test Accuracy : 0.837\n",
      "RF Test F1 : 0.5965346534653466\n",
      "RF Test AUC: 0.8459005247838189\n",
      "------------------------------------------------\n",
      "              precision    recall  f1-score   support\n",
      "\n",
      "           0       0.91      0.88      0.90      1623\n",
      "           1       0.56      0.64      0.60       377\n",
      "\n",
      "    accuracy                           0.84      2000\n",
      "   macro avg       0.74      0.76      0.75      2000\n",
      "weighted avg       0.85      0.84      0.84      2000\n",
      "\n",
      "------------------------------------------------\n",
      "Feature: 0, Score: 0.38761\n",
      "Feature: 1, Score: 0.08372\n",
      "Feature: 2, Score: 0.08557\n",
      "Feature: 3, Score: 0.05161\n",
      "Feature: 4, Score: 0.20733\n",
      "Feature: 5, Score: 0.05790\n",
      "Feature: 6, Score: 0.12627\n"
     ]
    },
    {
     "data": {
      "text/plain": [
       "Text(0.5, 1.0, 'Feature Importances')"
      ]
     },
     "execution_count": 150,
     "metadata": {},
     "output_type": "execute_result"
    },
    {
     "data": {
      "image/png": "[encoded data removed]",
      "text/plain": [
       "<Figure size 432x288 with 1 Axes>"
      ]
     },
     "metadata": {
      "needs_background": "light"
     },
     "output_type": "display_data"
    }
   ],
   "source": [
    "###########################################\n",
    "### MODEL IMPLEMENTATION, RANDOM FOREST ###\n",
    "###########################################\n",
    "\n",
    "## Random Grid search has already been run, to re-run, turn runRandomGrid to True\n",
    "runRandomGrid = False \n",
    "\n",
    "if runRandomGrid:\n",
    "    # Number of trees in random forest\n",
    "    n_estimators = [int(x) for x in np.linspace(start = 1000, stop = 3000, num = 10)]\n",
    "    # Number of features to consider at every split\n",
    "    max_features = ['auto', 'sqrt']\n",
    "    # Maximum number of levels in tree\n",
    "    max_depth = [int(x) for x in np.linspace(50, 500, num = 100)]\n",
    "    max_depth.append(None)\n",
    "    # Minimum number of samples required at each leaf node\n",
    "    min_samples_leaf = [1, 2, 4, 6, 8, 10]\n",
    "    # Method of selecting samples for training each tree\n",
    "    bootstrap = [True, False]\n",
    "    # Create the random grid\n",
    "    random_grid = {'n_estimators': n_estimators,\n",
    "                'max_features': max_features,\n",
    "                'max_depth': max_depth,\n",
    "                'min_samples_leaf': min_samples_leaf,\n",
    "                'bootstrap': bootstrap}\n",
    "\n",
    "    # Use the random grid to search for best hyperparameters\n",
    "    rf = RandomForestClassifier()\n",
    "    rf_random = RandomizedSearchCV(estimator = rf, param_distributions = random_grid, n_iter = 100, cv = 3, verbose=10, random_state=43, n_jobs = -1)\n",
    "\n",
    "    # rf_random.fit(x_train, y_train)\n",
    "    rf_random.fit(X_train_SMOTE, y_train_SMOTE)\n",
    "    rf_random.score(x_test, y_test)\n",
    "\n",
    "    ### Best Params ###\n",
    "    '''\n",
    "    {'n_estimators': 1500,\n",
    "    'min_samples_leaf': 1,\n",
    "    'max_features': 'auto',\n",
    "    'max_depth': 25,\n",
    "    'bootstrap': False}\n",
    "    '''\n",
    "\n",
    "classifier = RandomForestClassifier(min_samples_leaf = 8, min_samples_split = 8, max_features = 'sqrt', max_depth=1500, bootstrap = False, n_estimators = 1500, random_state= 42)\n",
    "classifier.fit(X_train_SMOTE, y_train_SMOTE)\n",
    "\n",
    "print('RF Final Results on Test Data')\n",
    "print('------------------------------------------------')\n",
    "print('RF Test Accuracy :', classifier.score(x_test,y_test))\n",
    "\n",
    "y_preds = classifier.predict(x_test)\n",
    "f1_score = metrics.f1_score(y_test, y_preds)\n",
    "rf_roc_auc = metrics.roc_auc_score(y_test, classifier.predict_proba(x_test)[:,1])\n",
    "print('RF Test F1 :', f1_score)\n",
    "print('RF Test AUC:', rf_roc_auc)\n",
    "print('------------------------------------------------')\n",
    "print(classification_report(y_test, y_preds))\n",
    "print('------------------------------------------------')\n",
    "\n",
    "\n",
    "for i,v in enumerate(classifier.feature_importances_):\n",
    "\tprint('Feature: %0d, Score: %.5f' % (i,v))\n",
    "\n",
    "featureImportanceDict = {'Features':green_area,'Importances':list(classifier.feature_importances_)}\n",
    "featureImportanceDictDF = pd.DataFrame(featureImportanceDict, columns=['Features','Importances'])\n",
    "\n",
    "sns.barplot(y='Features', x='Importances', data=featureImportanceDictDF).set_title('Feature Importances')\n"
   ]
  },
  {
   "cell_type": "code",
   "execution_count": null,
   "id": "ae39f264",
   "metadata": {},
   "outputs": [],
   "source": []
  }
 ],
 "metadata": {
  "kernelspec": {
   "display_name": "Python 3",
   "language": "python",
   "name": "python3"
  },
  "language_info": {
   "codemirror_mode": {
    "name": "ipython",
    "version": 3
   },
   "file_extension": ".py",
   "mimetype": "text/x-python",
   "name": "python",
   "nbconvert_exporter": "python",
   "pygments_lexer": "ipython3",
   "version": "3.8.8"
  }
 },
 "nbformat": 4,
 "nbformat_minor": 5
}
